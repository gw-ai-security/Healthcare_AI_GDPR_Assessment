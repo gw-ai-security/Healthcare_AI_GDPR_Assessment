{
 "cells": [
  {
   "cell_type": "markdown",
   "id": "fb0da6d1",
   "metadata": {},
   "source": [
    "# 📊 Risk Level Analysis & Visualization\n",
    "This notebook visualizes enriched healthcare log data including calculated GDPR-related risk levels."
   ]
  },
  {
   "cell_type": "code",
   "execution_count": null,
   "id": "0e211c73",
   "metadata": {},
   "outputs": [],
   "source": [
    "# 📥 Load data\n",
    "import pandas as pd\n",
    "import matplotlib.pyplot as plt\n",
    "import seaborn as sns\n",
    "\n",
    "# Load enriched CSV (created in 02_Feature_engineering.ipynb)\n",
    "df = pd.read_csv('../data/healthcare_logs.csv')\n",
    "df['timestamp'] = pd.to_datetime(df['Timestamp'])\n",
    "df['hour'] = df['timestamp'].dt.hour"
   ]
  },
  {
   "cell_type": "code",
   "execution_count": null,
   "id": "f7398573",
   "metadata": {},
   "outputs": [],
   "source": [
    "# 🛡️ Ensure all features exist (recalculate if needed)\n",
    "df['non_eu_flag'] = ~df['Country'].isin([\n",
    "    'AT','BE','BG','CY','CZ','DE','DK','EE','ES','FI',\n",
    "    'FR','GR','HR','HU','IE','IT','LT','LU','LV','MT',\n",
    "    'NL','PL','PT','RO','SE','SI','SK'])\n",
    "df['consent_violation_flag'] = df['ConsentStatus'] == False\n",
    "df['admin_access_outside_hours'] = (df['Role'] == 'admin') & ((df['hour'] < 6) | (df['hour'] > 22))"
   ]
  },
  {
   "cell_type": "code",
   "execution_count": null,
   "id": "95b1574f",
   "metadata": {},
   "outputs": [],
   "source": [
    "# 🧮 Calculate risk score and risk level\n",
    "df['risk_score'] = (\n",
    "    df['non_eu_flag'].astype(int) +\n",
    "    df['consent_violation_flag'].astype(int) +\n",
    "    df['admin_access_outside_hours'].astype(int)\n",
    ")\n",
    "df['risk_level'] = df['risk_score'].apply(lambda x: 'High' if x >= 2 else ('Medium' if x == 1 else 'Low'))"
   ]
  },
  {
   "cell_type": "code",
   "execution_count": null,
   "id": "62dae024",
   "metadata": {},
   "outputs": [],
   "source": [
    "# 📈 Risk Level Distribution\n",
    "sns.set(style='whitegrid')\n",
    "plt.figure(figsize=(6, 4))\n",
    "sns.countplot(data=df, x='risk_level', order=['Low', 'Medium', 'High'], palette='viridis')\n",
    "plt.title('Distribution of Risk Levels')\n",
    "plt.xlabel('Risk Level')\n",
    "plt.ylabel('Number of Events')\n",
    "plt.tight_layout()\n",
    "plt.show()"
   ]
  },
  {
   "cell_type": "code",
   "execution_count": null,
   "id": "b42d38a5",
   "metadata": {},
   "outputs": [],
   "source": [
    "# 📊 Heatmap: Role vs Risk Level\n",
    "pivot = df.pivot_table(index='Role', columns='risk_level', aggfunc='size', fill_value=0)\n",
    "plt.figure(figsize=(8, 4))\n",
    "sns.heatmap(pivot, annot=True, fmt='d', cmap='YlGnBu')\n",
    "plt.title('Role vs Risk Level (Event Count)')\n",
    "plt.xlabel('Risk Level')\n",
    "plt.ylabel('User Role')\n",
    "plt.tight_layout()\n",
    "plt.show()"
   ]
  }
 ],
 "metadata": {},
 "nbformat": 4,
 "nbformat_minor": 5
}
