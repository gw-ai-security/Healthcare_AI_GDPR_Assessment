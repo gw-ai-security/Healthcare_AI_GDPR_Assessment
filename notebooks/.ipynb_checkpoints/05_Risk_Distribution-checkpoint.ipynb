{
 "cells": [
  {
   "cell_type": "markdown",
   "id": "d8397981",
   "metadata": {},
   "source": [
    "# 📊 Modul 2: Risk Level Distribution Visualization\n",
    "This notebook visualizes the distribution of GDPR risk levels from enriched healthcare log data."
   ]
  },
  {
   "cell_type": "code",
   "execution_count": null,
   "id": "7460a5ee",
   "metadata": {},
   "outputs": [],
   "source": [
    "import pandas as pd\n",
    "import matplotlib.pyplot as plt\n",
    "import seaborn as sns\n",
    "\n",
    "# Load enriched data\n",
    "df = pd.read_csv('../data/healthcare_logs.csv')\n",
    "\n",
    "# Check if 'risk_level' exists, else reconstruct features\n",
    "if 'risk_level' not in df.columns:\n",
    "    eu_countries = ['AT', 'BE', 'BG', 'CY', 'CZ', 'DE', 'DK', 'EE', 'ES', 'FI',\n",
    "                   'FR', 'GR', 'HR', 'HU', 'IE', 'IT', 'LT', 'LU', 'LV', 'MT',\n",
    "                   'NL', 'PL', 'PT', 'RO', 'SE', 'SI', 'SK']\n",
    "    df['non_eu_flag'] = ~df['Country'].isin(eu_countries)\n",
    "    df['consent_violation_flag'] = df['ConsentStatus'] == False\n",
    "    df['timestamp'] = pd.to_datetime(df['Timestamp'], errors='coerce')\n",
    "    df['hour'] = df['timestamp'].dt.hour\n",
    "    df['admin_access_outside_hours'] = (\n",
    "        (df['Role'] == 'admin') & ((df['hour'] < 6) | (df['hour'] > 22))\n",
    "    )\n",
    "    df['risk_score'] = (\n",
    "        df['non_eu_flag'].astype(int) +\n",
    "        df['consent_violation_flag'].astype(int) +\n",
    "        df['admin_access_outside_hours'].astype(int)\n",
    "    )\n",
    "    df['risk_level'] = df['risk_score'].apply(lambda x: 'High' if x >= 2 else ('Medium' if x == 1 else 'Low'))"
   ]
  },
  {
   "cell_type": "code",
   "execution_count": null,
   "id": "0994dc9c",
   "metadata": {},
   "outputs": [],
   "source": [
    "# 📈 Risk Level Distribution\n",
    "sns.set(style='whitegrid')\n",
    "plt.figure(figsize=(6, 4))\n",
    "color_map = {'Low': '#1f77b4', 'Medium': '#ff7f0e', 'High': '#d62728'}\n",
    "order = ['Low', 'Medium', 'High']\n",
    "counts = df['risk_level'].value_counts().reindex(order)\n",
    "plt.bar(counts.index, counts.values, color=[color_map[x] for x in counts.index])\n",
    "plt.title('Distribution of Risk Levels')\n",
    "plt.xlabel('Risk Level')\n",
    "plt.ylabel('Number of Events')\n",
    "plt.tight_layout()\n",
    "plt.show()"
   ]
  }
 ],
 "metadata": {},
 "nbformat": 4,
 "nbformat_minor": 5
}
