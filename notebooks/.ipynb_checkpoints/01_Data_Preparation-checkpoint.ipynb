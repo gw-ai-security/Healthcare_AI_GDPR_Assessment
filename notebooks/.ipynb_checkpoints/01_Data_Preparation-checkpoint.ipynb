{
 "cells": [
  {
   "cell_type": "markdown",
   "id": "6917f3b9-c5d7-433a-8b86-a58a47921bbb",
   "metadata": {},
   "source": [
    "# 📊 Healthcare AI GDPR Compliance – Data Preparation Notebook\n",
    "\n",
    "_This notebook performs initial data loading, cleaning, feature engineering, and exploratory analysis for GDPR compliance auditing._\n"
   ]
  },
  {
   "cell_type": "code",
   "execution_count": 5,
   "id": "b37d2649-c43c-4602-ac31-0b6ff4cf0d0a",
   "metadata": {},
   "outputs": [],
   "source": [
    "# 📌 Import required libraries\n",
    "\n",
    "import pandas as pd      # Data manipulation and analysis\n",
    "import matplotlib.pyplot as plt  # Basic plotting and visualization\n",
    "import seaborn as sns    # Advanced statistical visualizations\n"
   ]
  },
  {
   "cell_type": "code",
   "execution_count": 6,
   "id": "c59e9e8c-5a90-4e66-b528-6e16a513063d",
   "metadata": {},
   "outputs": [
    {
     "data": {
      "text/html": [
       "<div>\n",
       "<style scoped>\n",
       "    .dataframe tbody tr th:only-of-type {\n",
       "        vertical-align: middle;\n",
       "    }\n",
       "\n",
       "    .dataframe tbody tr th {\n",
       "        vertical-align: top;\n",
       "    }\n",
       "\n",
       "    .dataframe thead th {\n",
       "        text-align: right;\n",
       "    }\n",
       "</style>\n",
       "<table border=\"1\" class=\"dataframe\">\n",
       "  <thead>\n",
       "    <tr style=\"text-align: right;\">\n",
       "      <th></th>\n",
       "      <th>UserID</th>\n",
       "      <th>Timestamp</th>\n",
       "      <th>DiagnosisCode</th>\n",
       "      <th>Country</th>\n",
       "      <th>ConsentStatus</th>\n",
       "    </tr>\n",
       "  </thead>\n",
       "  <tbody>\n",
       "    <tr>\n",
       "      <th>0</th>\n",
       "      <td>U001</td>\n",
       "      <td>2024-01-01T12:00:00Z</td>\n",
       "      <td>C50.9</td>\n",
       "      <td>DE</td>\n",
       "      <td>True</td>\n",
       "    </tr>\n",
       "    <tr>\n",
       "      <th>1</th>\n",
       "      <td>U002</td>\n",
       "      <td>2024-01-02T14:00:00Z</td>\n",
       "      <td>C50.9</td>\n",
       "      <td>US</td>\n",
       "      <td>False</td>\n",
       "    </tr>\n",
       "    <tr>\n",
       "      <th>2</th>\n",
       "      <td>U003</td>\n",
       "      <td>2024-01-03T16:00:00Z</td>\n",
       "      <td>C50.9</td>\n",
       "      <td>DE</td>\n",
       "      <td>True</td>\n",
       "    </tr>\n",
       "  </tbody>\n",
       "</table>\n",
       "</div>"
      ],
      "text/plain": [
       "  UserID             Timestamp DiagnosisCode Country  ConsentStatus\n",
       "0   U001  2024-01-01T12:00:00Z         C50.9      DE           True\n",
       "1   U002  2024-01-02T14:00:00Z         C50.9      US          False\n",
       "2   U003  2024-01-03T16:00:00Z         C50.9      DE           True"
      ]
     },
     "execution_count": 6,
     "metadata": {},
     "output_type": "execute_result"
    }
   ],
   "source": [
    "# 📌 Load the healthcare logs CSV\n",
    "\n",
    "# Define file path\n",
    "file_path = '../data/healthcare_logs.csv'\n",
    "\n",
    "# Load data into DataFrame\n",
    "df = pd.read_csv(file_path)\n",
    "\n",
    "# Preview first rows\n",
    "df.head()\n"
   ]
  },
  {
   "cell_type": "code",
   "execution_count": 7,
   "id": "9fbfd37a-a2ef-4432-a303-2b1f402a9aff",
   "metadata": {},
   "outputs": [
    {
     "name": "stdout",
     "output_type": "stream",
     "text": [
      "Null values per column:\n",
      "UserID           0\n",
      "Timestamp        0\n",
      "DiagnosisCode    0\n",
      "Country          0\n",
      "ConsentStatus    0\n",
      "dtype: int64\n",
      "\n",
      "Data types:\n",
      "UserID           object\n",
      "Timestamp        object\n",
      "DiagnosisCode    object\n",
      "Country          object\n",
      "ConsentStatus      bool\n",
      "dtype: object\n",
      "\n",
      "Basic description:\n",
      "       UserID             Timestamp DiagnosisCode Country ConsentStatus\n",
      "count       3                     3             3       3             3\n",
      "unique      3                     3             1       2             2\n",
      "top      U001  2024-01-01T12:00:00Z         C50.9      DE          True\n",
      "freq        1                     1             3       2             2\n"
     ]
    }
   ],
   "source": [
    "# 📌 Quick data overview\n",
    "\n",
    "# Check for null values\n",
    "print(\"Null values per column:\")\n",
    "print(df.isnull().sum())\n",
    "\n",
    "# Check data types\n",
    "print(\"\\nData types:\")\n",
    "print(df.dtypes)\n",
    "\n",
    "# Basic statistics\n",
    "print(\"\\nBasic description:\")\n",
    "print(df.describe(include='all'))\n"
   ]
  },
  {
   "cell_type": "code",
   "execution_count": 8,
   "id": "6d5d8e6d-ead2-45dc-85c5-c727451910a4",
   "metadata": {},
   "outputs": [
    {
     "data": {
      "text/html": [
       "<div>\n",
       "<style scoped>\n",
       "    .dataframe tbody tr th:only-of-type {\n",
       "        vertical-align: middle;\n",
       "    }\n",
       "\n",
       "    .dataframe tbody tr th {\n",
       "        vertical-align: top;\n",
       "    }\n",
       "\n",
       "    .dataframe thead th {\n",
       "        text-align: right;\n",
       "    }\n",
       "</style>\n",
       "<table border=\"1\" class=\"dataframe\">\n",
       "  <thead>\n",
       "    <tr style=\"text-align: right;\">\n",
       "      <th></th>\n",
       "      <th>Country</th>\n",
       "      <th>Is_EU</th>\n",
       "    </tr>\n",
       "  </thead>\n",
       "  <tbody>\n",
       "    <tr>\n",
       "      <th>0</th>\n",
       "      <td>DE</td>\n",
       "      <td>True</td>\n",
       "    </tr>\n",
       "    <tr>\n",
       "      <th>1</th>\n",
       "      <td>US</td>\n",
       "      <td>False</td>\n",
       "    </tr>\n",
       "    <tr>\n",
       "      <th>2</th>\n",
       "      <td>DE</td>\n",
       "      <td>True</td>\n",
       "    </tr>\n",
       "  </tbody>\n",
       "</table>\n",
       "</div>"
      ],
      "text/plain": [
       "  Country  Is_EU\n",
       "0      DE   True\n",
       "1      US  False\n",
       "2      DE   True"
      ]
     },
     "execution_count": 8,
     "metadata": {},
     "output_type": "execute_result"
    }
   ],
   "source": [
    "# 📌 Feature Engineering: EU vs Non-EU Classification\n",
    "\n",
    "# Define simple EU country list (example)\n",
    "eu_countries = ['DE', 'FR', 'ES', 'IT', 'NL']\n",
    "\n",
    "# Create new column\n",
    "df['Is_EU'] = df['Country'].apply(lambda x: x in eu_countries)\n",
    "\n",
    "# Preview result\n",
    "df[['Country', 'Is_EU']].head()\n"
   ]
  },
  {
   "cell_type": "code",
   "execution_count": 9,
   "id": "c9f4afba-6f70-4f55-bbbf-cbb214e8d4a5",
   "metadata": {},
   "outputs": [
    {
     "name": "stdout",
     "output_type": "stream",
     "text": [
      "Consent Status Counts:\n",
      "ConsentStatus\n",
      "True     2\n",
      "False    1\n",
      "Name: count, dtype: int64\n",
      "\n",
      "Consent by EU/Non-EU classification:\n",
      "Is_EU  ConsentStatus\n",
      "False  False            1\n",
      "True   True             2\n",
      "Name: count, dtype: int64\n"
     ]
    }
   ],
   "source": [
    "# 📌 Analyze Consent Status Distribution\n",
    "\n",
    "# Count consent status\n",
    "print(\"Consent Status Counts:\")\n",
    "print(df['ConsentStatus'].value_counts())\n",
    "\n",
    "# Group by EU/Non-EU\n",
    "print(\"\\nConsent by EU/Non-EU classification:\")\n",
    "print(df.groupby('Is_EU')['ConsentStatus'].value_counts())\n"
   ]
  },
  {
   "cell_type": "code",
   "execution_count": 10,
   "id": "74857555-2fc7-4b6b-85bc-c459f6a85906",
   "metadata": {},
   "outputs": [
    {
     "data": {
      "image/png": "[encoded data removed]",
      "text/plain": [
       "<Figure size 800x500 with 1 Axes>"
      ]
     },
     "metadata": {},
     "output_type": "display_data"
    }
   ],
   "source": [
    "# 📌 Visualize Consent Status by Country\n",
    "\n",
    "plt.figure(figsize=(8,5))\n",
    "sns.countplot(x='Country', hue='ConsentStatus', data=df)\n",
    "plt.title('Consent Status by Country')\n",
    "plt.xlabel('Country')\n",
    "plt.ylabel('Count')\n",
    "plt.legend(title='ConsentStatus')\n",
    "plt.show()\n"
   ]
  },
  {
   "cell_type": "code",
   "execution_count": null,
   "id": "dffc1f57-cdd9-4ffa-8a6d-726ae30f49fb",
   "metadata": {},
   "outputs": [],
   "source": []
  }
 ],
 "metadata": {
  "kernelspec": {
   "display_name": "Python [conda env:base] *",
   "language": "python",
   "name": "conda-base-py"
  },
  "language_info": {
   "codemirror_mode": {
    "name": "ipython",
    "version": 3
   },
   "file_extension": ".py",
   "mimetype": "text/x-python",
   "name": "python",
   "nbconvert_exporter": "python",
   "pygments_lexer": "ipython3",
   "version": "3.13.5"
  }
 },
 "nbformat": 4,
 "nbformat_minor": 5
}
